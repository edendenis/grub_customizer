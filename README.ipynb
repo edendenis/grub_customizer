{
 "cells": [
  {
   "cell_type": "markdown",
   "metadata": {},
   "source": [
    "# Como instalar/configurar/usar o `GRUB Customizer` no `Linux Ubuntu`\n",
    "\n",
    "## Resumo\n",
    "\n",
    "Neste documento estão contidos os principais comandos e configurações para instalar/configurar/usar o `GRUB Customizer` no `Linux Ubuntu`.\n",
    "\n",
    "## _Abstract_\n",
    "\n",
    "_This document contains the main commands and settings to install/configure/usar the GRUB Customizer on Linux Ubuntu._"
   ]
  },
  {
   "cell_type": "markdown",
   "metadata": {},
   "source": [
    "## Revisão(ões)/Versão(ões)"
   ]
  },
  {
   "cell_type": "markdown",
   "metadata": {},
   "source": [
    "|Revisão número|Data da revisão|Descrição da revisão|Autor da revisão|\n",
    "|:-:|:-:|:-|:-|\n",
    "|0|31/10/2023|<ul><li>Revisão inicial/criação do documento.</li></ul>|Eden Denis F. da S. L. Santos|\n",
    "|1|14/11/2023|<ul><li>Incluída a Seção Descrição.</li></ul>|Eden Denis F. da S. L. Santos|"
   ]
  },
  {
   "cell_type": "markdown",
   "metadata": {},
   "source": [
    "## Controle de configuração/instalação nos Sistemas Operacionais (SO) vs. Computador\n",
    "\n",
    "|Numero|Computador         |Sistema Operacional (SO)|Status da configuração/instalação|\n",
    "|:----:|:-----------------:|:----------------------:|:-------------------------------:|\n",
    "|1     |Dell Precision 7520|Kali   Linux            |Pendente                         |\n",
    "|2     |Dell Precision 7520|Linux Ubuntu            |N/A                              |\n",
    "|3     |Dell Precision 7520|Linux Xubuntu           |OK                               |\n",
    "|4     |Dell Precision 7520|Windows                 |Pendente                         |\n",
    "|5     |Asus               |Kali   Linux            |N/A                              |\n",
    "|6     |Asus               |Linux Ubuntu            |Pendente                         |\n",
    "|7     |Asus               |Linux Xubuntu           |Pendente                         |\n",
    "|8     |Asus               |Windows                 |Pendente                         |\n"
   ]
  },
  {
   "cell_type": "markdown",
   "metadata": {
    "vscode": {
     "languageId": "plaintext"
    }
   },
   "source": [
    "## Descrição\n",
    "\n",
    "### `GRUB Customizer`\n",
    "\n",
    "O `Grub Customizer` é uma ferramenta gráfica que permite aos usuários do Ubuntu e outras distribuições Linux personalizar o menu de inicialização do GRUB2 (GRand Unified Bootloader versão 2). Com esta aplicação, você pode facilmente adicionar, remover, reordenar e editar as entradas do menu de inicialização sem ter que manipular manualmente arquivos de configuração complexos. A ferramenta também oferece opções para alterar a aparência do menu GRUB, como cores e resolução, e permite fazer ajustes avançados, como modificar parâmetros do kernel. É uma maneira mais amigável e acessível de gerenciar as opções de inicialização do sistema.\n"
   ]
  },
  {
   "cell_type": "markdown",
   "metadata": {},
   "source": [
    "## 1. Configurar/Instalar/Usar o `GRUB Customizer` do `Linux Ubuntu` [1][2]\n",
    "\n",
    "**ATENÇÂO**: Tenha em mente que o `GRUB` deve ser instalado no primário da sequência de `boot`, logo, se ele for instalado em outro disco, este, por sua vez, deve ser alterado para ser o primeiro disco na inicialização do computador.\n",
    "\n",
    "### 1.1 Atualizar o Sistema Operacional (SO)\n",
    "\n",
    "1. Abra o terminal. Você pode fazer isso pressionando: `Ctrl + Alt + T`"
   ]
  },
  {
   "cell_type": "markdown",
   "metadata": {},
   "source": [
    "2. Certifique-se de que seu sistema esteja limpo e atualizado.\n",
    "\n",
    "    2.1 Limpar o `cache` do gerenciador de pacotes APT. Especificamente, ele remove todos os arquivos de pacotes (`.deb`) baixados pelo APT e armazenados em `/var/cache/apt/archives/`. Digite o seguinte comando: `sudo apt clean` \n",
    "    \n",
    "    2.2 Remover pacotes `.deb` antigos ou duplicados do cache local. É útil para liberar espaço, pois remove apenas os pacotes que não podem mais ser baixados (ou seja, versões antigas de pacotes que foram atualizados). Digite o seguinte comando: `sudo apt autoclean`\n",
    "\n",
    "    2.3 Remover pacotes que foram automaticamente instalados para satisfazer as dependências de outros pacotes e que não são mais necessários. Digite o seguinte comando: `sudo apt autoremove -y`\n",
    "\n",
    "    2.4 Buscar as atualizações disponíveis para os pacotes que estão instalados em seu sistema. Digite o seguinte comando e pressione `Enter`: `sudo apt update -y`\n",
    "\n",
    "    2.5 Para ver a lista de pacotes a serem atualizados, digite o seguinte comando e pressione `Enter`:  `sudo apt list --upgradable`\n",
    "\n",
    "    2.6 Realmente atualizar os pacotes instalados para as suas versões mais recentes, com base na última vez que você executou `sudo apt update -y`. Digite o seguinte comando e pressione `Enter`: `sudo apt full-upgrade -y`\n",
    "\n",
    "    2.7 Remover pacotes que foram automaticamente instalados para satisfazer as dependências de outros pacotes e que não são mais necessários. Digite o seguinte comando: `sudo apt autoremove -y`\n",
    "\n",
    "    2.8 Remover pacotes `.deb` antigos ou duplicados do cache local. É útil para liberar espaço, pois remove apenas os pacotes que não podem mais ser baixados (ou seja, versões antigas de pacotes que foram atualizados). Digite o seguinte comando: `sudo apt autoclean`"
   ]
  },
  {
   "cell_type": "markdown",
   "metadata": {},
   "source": [
    "3. **Reinstale o `software-properties-common`:** O pacote `software-properties-common` inclui o script `add-apt-repository`. Reinstalá-lo pode corrigir quaisquer problemas no script. `sudo apt install --reinstall software-properties-common`\n",
    "\n",
    "4. Adicione o repositório PPA (Personal Package Archive) que contém o GRUB Customizer: `sudo add-apt-repository ppa:danielrichter2007/grub-customizer -y`\n",
    "\n",
    "5. **Instale o Grub Customizer:** `sudo apt install grub-customizer -y`\n",
    "\n",
    "### Aqui está o que cada comando faz:\n",
    "\n",
    "- **`sudo add-apt-repository ppa:danielrichter2007/grub-customizer`:** Este comando adiciona o repositório PPA que contém o pacote do Grub Customizer ao seu sistema.\n",
    "\n",
    "- **`sudo apt update:`** Este comando atualiza a lista de pacotes disponíveis para instalação.\n",
    "\n",
    "- **`sudo apt install grub-customizer:`** Este comando instala o Grub Customizer no seu sistema.\n",
    "\n",
    "Após a instalação, você pode abrir o Grub Customizer através do menu de aplicativos ou executando `grub-customizer` no Terminal.\n"
   ]
  },
  {
   "cell_type": "markdown",
   "metadata": {
    "vscode": {
     "languageId": "plaintext"
    }
   },
   "source": [
    "### 1.1 Código completo para configurar/instalar/usar\n",
    "\n",
    "Para configurar/instalar/usar o `GRUB Customizer` no `Linux Ubuntu` sem precisar digitar linha por linha, você pode seguir estas etapas:\n",
    "\n",
    "1. Abra o terminal. Você pode fazer isso pressionando: `Ctrl + Alt + T`\n",
    "\n",
    "2. Digite o seguinte comando e pressione `Enter`:\n",
    "\n",
    "    ```\n",
    "    sudo apt clean\n",
    "    sudo apt autoclean\n",
    "    sudo apt autoremove\n",
    "    sudo apt update -y\n",
    "    sudo apt autoremove\n",
    "    sudo apt autoclean\n",
    "    sudo apt list --upgradable\n",
    "    sudo apt full-upgrade -y\n",
    "    sudo apt install --reinstall software-properties-common\n",
    "    sudo add-apt-repository ppa:danielrichter2007/grub-customizer -y\n",
    "    ```\n"
   ]
  },
  {
   "cell_type": "markdown",
   "metadata": {
    "vscode": {
     "languageId": "plaintext"
    }
   },
   "source": [
    "## Referências\n",
    "\n",
    "[1] OPENAI. ***Customização do grub no ubuntu.*** Disponível em: <https://chat.openai.com/c/9d00a24c-142f-46fc-965f-97504fc33492> (texto adaptado). ChatGPT. Acessado em: 31/10/2023 15:28.\n",
    "\n",
    "[2] JAMES, J.. ***How to install grub customizer on ubuntu 22.04 or 20.04.*** Disponível em: <https://www.linuxcapable.com/how-to-install-grub-customizer-on-ubuntu-linux/>. ChatGPT. Acessado em: 31/10/2023 15:29."
   ]
  }
 ],
 "metadata": {
  "kernelspec": {
   "display_name": "Python 3",
   "language": "python",
   "name": "python3"
  },
  "language_info": {
   "codemirror_mode": {
    "name": "ipython",
    "version": 3
   },
   "file_extension": ".py",
   "mimetype": "text/x-python",
   "name": "python",
   "nbconvert_exporter": "python",
   "pygments_lexer": "ipython3",
   "version": "3.8.10"
  },
  "orig_nbformat": 4
 },
 "nbformat": 4,
 "nbformat_minor": 2
}
